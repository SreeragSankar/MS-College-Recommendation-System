{
 "cells": [
  {
   "cell_type": "code",
   "execution_count": 1,
   "id": "3f96aedb-6288-4f63-a742-8e32fecd6bf8",
   "metadata": {},
   "outputs": [],
   "source": [
    "import numpy as np\n",
    "import pandas as pd\n",
    "import difflib\n",
    "from sklearn.metrics.pairwise import cosine_similarity\n",
    "from sklearn.preprocessing import MinMaxScaler, OneHotEncoder"
   ]
  },
  {
   "cell_type": "code",
   "execution_count": 2,
   "id": "09e16526-923e-47da-b568-bb1d3baa5cf5",
   "metadata": {},
   "outputs": [
    {
     "data": {
      "text/html": [
       "<div>\n",
       "<style scoped>\n",
       "    .dataframe tbody tr th:only-of-type {\n",
       "        vertical-align: middle;\n",
       "    }\n",
       "\n",
       "    .dataframe tbody tr th {\n",
       "        vertical-align: top;\n",
       "    }\n",
       "\n",
       "    .dataframe thead th {\n",
       "        text-align: right;\n",
       "    }\n",
       "</style>\n",
       "<table border=\"1\" class=\"dataframe\">\n",
       "  <thead>\n",
       "    <tr style=\"text-align: right;\">\n",
       "      <th></th>\n",
       "      <th>Sl.No</th>\n",
       "      <th>College_Name</th>\n",
       "      <th>Country</th>\n",
       "      <th>Rank</th>\n",
       "      <th>Fees</th>\n",
       "      <th>Avg Package</th>\n",
       "    </tr>\n",
       "  </thead>\n",
       "  <tbody>\n",
       "    <tr>\n",
       "      <th>0</th>\n",
       "      <td>1.0</td>\n",
       "      <td>Massachusetts Institute of Technology (MIT)</td>\n",
       "      <td>United states</td>\n",
       "      <td>1</td>\n",
       "      <td>62000.0</td>\n",
       "      <td>170000.0</td>\n",
       "    </tr>\n",
       "    <tr>\n",
       "      <th>1</th>\n",
       "      <td>2.0</td>\n",
       "      <td>Stanford University</td>\n",
       "      <td>United states</td>\n",
       "      <td>2</td>\n",
       "      <td>85000.0</td>\n",
       "      <td>185000.0</td>\n",
       "    </tr>\n",
       "    <tr>\n",
       "      <th>2</th>\n",
       "      <td>3.0</td>\n",
       "      <td>Carnegie Mellon University</td>\n",
       "      <td>United states</td>\n",
       "      <td>3</td>\n",
       "      <td>60000.0</td>\n",
       "      <td>150000.0</td>\n",
       "    </tr>\n",
       "    <tr>\n",
       "      <th>3</th>\n",
       "      <td>4.0</td>\n",
       "      <td>Harvard University</td>\n",
       "      <td>United states</td>\n",
       "      <td>7</td>\n",
       "      <td>58000.0</td>\n",
       "      <td>145000.0</td>\n",
       "    </tr>\n",
       "    <tr>\n",
       "      <th>4</th>\n",
       "      <td>5.0</td>\n",
       "      <td>University of California, Berkeley (UCB)</td>\n",
       "      <td>United states</td>\n",
       "      <td>8</td>\n",
       "      <td>45000.0</td>\n",
       "      <td>150000.0</td>\n",
       "    </tr>\n",
       "  </tbody>\n",
       "</table>\n",
       "</div>"
      ],
      "text/plain": [
       "   Sl.No                                 College_Name        Country Rank  \\\n",
       "0    1.0  Massachusetts Institute of Technology (MIT)  United states    1   \n",
       "1    2.0                          Stanford University  United states    2   \n",
       "2    3.0                   Carnegie Mellon University  United states    3   \n",
       "3    4.0                           Harvard University  United states    7   \n",
       "4    5.0     University of California, Berkeley (UCB)  United states    8   \n",
       "\n",
       "      Fees  Avg Package  \n",
       "0  62000.0     170000.0  \n",
       "1  85000.0     185000.0  \n",
       "2  60000.0     150000.0  \n",
       "3  58000.0     145000.0  \n",
       "4  45000.0     150000.0  "
      ]
     },
     "execution_count": 2,
     "metadata": {},
     "output_type": "execute_result"
    }
   ],
   "source": [
    "data=pd.read_csv('Global Colleges DataSet new.csv',encoding='cp1252')\n",
    "data.head()"
   ]
  },
  {
   "cell_type": "code",
   "execution_count": 3,
   "id": "b164554f-5b75-4e2a-a37f-b0abf975c01b",
   "metadata": {},
   "outputs": [
    {
     "name": "stdout",
     "output_type": "stream",
     "text": [
      "<class 'pandas.core.frame.DataFrame'>\n",
      "RangeIndex: 512 entries, 0 to 511\n",
      "Data columns (total 6 columns):\n",
      " #   Column        Non-Null Count  Dtype  \n",
      "---  ------        --------------  -----  \n",
      " 0   Sl.No         502 non-null    float64\n",
      " 1   College_Name  265 non-null    object \n",
      " 2   Country       265 non-null    object \n",
      " 3   Rank          265 non-null    object \n",
      " 4   Fees          265 non-null    float64\n",
      " 5   Avg Package   265 non-null    float64\n",
      "dtypes: float64(3), object(3)\n",
      "memory usage: 24.1+ KB\n"
     ]
    }
   ],
   "source": [
    "data.info()"
   ]
  },
  {
   "cell_type": "code",
   "execution_count": 4,
   "id": "2dcad6d3-e203-4726-8eba-cb9348837b19",
   "metadata": {},
   "outputs": [
    {
     "data": {
      "text/plain": [
       "Sl.No            10\n",
       "College_Name    247\n",
       "Country         247\n",
       "Rank            247\n",
       "Fees            247\n",
       "Avg Package     247\n",
       "dtype: int64"
      ]
     },
     "execution_count": 4,
     "metadata": {},
     "output_type": "execute_result"
    }
   ],
   "source": [
    "data.isnull().sum()"
   ]
  },
  {
   "cell_type": "code",
   "execution_count": 5,
   "id": "6e23149f-ad86-4154-b5da-021b34532f66",
   "metadata": {},
   "outputs": [
    {
     "data": {
      "text/plain": [
       "Sl.No           0\n",
       "College_Name    0\n",
       "Country         0\n",
       "Rank            0\n",
       "Fees            0\n",
       "Avg Package     0\n",
       "dtype: int64"
      ]
     },
     "execution_count": 5,
     "metadata": {},
     "output_type": "execute_result"
    }
   ],
   "source": [
    "data = data.dropna(subset=['College_Name','Country', 'Fees', 'Avg Package'])\n",
    "data.isnull().sum()\n",
    "\n",
    "\n",
    "\n"
   ]
  },
  {
   "cell_type": "code",
   "execution_count": null,
   "id": "57f3d9de-3e72-4a1b-a9d9-13c6c95c4abf",
   "metadata": {},
   "outputs": [],
   "source": []
  },
  {
   "cell_type": "code",
   "execution_count": 6,
   "id": "39f1faa4-56ee-4030-8f76-4da89271fdea",
   "metadata": {},
   "outputs": [
    {
     "data": {
      "text/html": [
       "<div>\n",
       "<style scoped>\n",
       "    .dataframe tbody tr th:only-of-type {\n",
       "        vertical-align: middle;\n",
       "    }\n",
       "\n",
       "    .dataframe tbody tr th {\n",
       "        vertical-align: top;\n",
       "    }\n",
       "\n",
       "    .dataframe thead th {\n",
       "        text-align: right;\n",
       "    }\n",
       "</style>\n",
       "<table border=\"1\" class=\"dataframe\">\n",
       "  <thead>\n",
       "    <tr style=\"text-align: right;\">\n",
       "      <th></th>\n",
       "      <th>Sl.No</th>\n",
       "      <th>College_Name</th>\n",
       "      <th>Country</th>\n",
       "      <th>Rank</th>\n",
       "      <th>Fees</th>\n",
       "      <th>Avg Package</th>\n",
       "      <th>Australlia</th>\n",
       "      <th>Canada</th>\n",
       "      <th>Germany</th>\n",
       "      <th>United Kingdom</th>\n",
       "      <th>United states</th>\n",
       "    </tr>\n",
       "  </thead>\n",
       "  <tbody>\n",
       "    <tr>\n",
       "      <th>0</th>\n",
       "      <td>1.0</td>\n",
       "      <td>Massachusetts Institute of Technology (MIT)</td>\n",
       "      <td>United states</td>\n",
       "      <td>1</td>\n",
       "      <td>62000.0</td>\n",
       "      <td>170000.0</td>\n",
       "      <td>0</td>\n",
       "      <td>0</td>\n",
       "      <td>0</td>\n",
       "      <td>0</td>\n",
       "      <td>1</td>\n",
       "    </tr>\n",
       "    <tr>\n",
       "      <th>1</th>\n",
       "      <td>2.0</td>\n",
       "      <td>Stanford University</td>\n",
       "      <td>United states</td>\n",
       "      <td>2</td>\n",
       "      <td>85000.0</td>\n",
       "      <td>185000.0</td>\n",
       "      <td>0</td>\n",
       "      <td>0</td>\n",
       "      <td>0</td>\n",
       "      <td>0</td>\n",
       "      <td>1</td>\n",
       "    </tr>\n",
       "    <tr>\n",
       "      <th>2</th>\n",
       "      <td>3.0</td>\n",
       "      <td>Carnegie Mellon University</td>\n",
       "      <td>United states</td>\n",
       "      <td>3</td>\n",
       "      <td>60000.0</td>\n",
       "      <td>150000.0</td>\n",
       "      <td>0</td>\n",
       "      <td>0</td>\n",
       "      <td>0</td>\n",
       "      <td>0</td>\n",
       "      <td>1</td>\n",
       "    </tr>\n",
       "    <tr>\n",
       "      <th>3</th>\n",
       "      <td>4.0</td>\n",
       "      <td>Harvard University</td>\n",
       "      <td>United states</td>\n",
       "      <td>7</td>\n",
       "      <td>58000.0</td>\n",
       "      <td>145000.0</td>\n",
       "      <td>0</td>\n",
       "      <td>0</td>\n",
       "      <td>0</td>\n",
       "      <td>0</td>\n",
       "      <td>1</td>\n",
       "    </tr>\n",
       "    <tr>\n",
       "      <th>4</th>\n",
       "      <td>5.0</td>\n",
       "      <td>University of California, Berkeley (UCB)</td>\n",
       "      <td>United states</td>\n",
       "      <td>8</td>\n",
       "      <td>45000.0</td>\n",
       "      <td>150000.0</td>\n",
       "      <td>0</td>\n",
       "      <td>0</td>\n",
       "      <td>0</td>\n",
       "      <td>0</td>\n",
       "      <td>1</td>\n",
       "    </tr>\n",
       "  </tbody>\n",
       "</table>\n",
       "</div>"
      ],
      "text/plain": [
       "   Sl.No                                 College_Name        Country Rank  \\\n",
       "0    1.0  Massachusetts Institute of Technology (MIT)  United states    1   \n",
       "1    2.0                          Stanford University  United states    2   \n",
       "2    3.0                   Carnegie Mellon University  United states    3   \n",
       "3    4.0                           Harvard University  United states    7   \n",
       "4    5.0     University of California, Berkeley (UCB)  United states    8   \n",
       "\n",
       "      Fees  Avg Package  Australlia  Canada  Germany  United Kingdom  \\\n",
       "0  62000.0     170000.0           0       0        0               0   \n",
       "1  85000.0     185000.0           0       0        0               0   \n",
       "2  60000.0     150000.0           0       0        0               0   \n",
       "3  58000.0     145000.0           0       0        0               0   \n",
       "4  45000.0     150000.0           0       0        0               0   \n",
       "\n",
       "   United states  \n",
       "0              1  \n",
       "1              1  \n",
       "2              1  \n",
       "3              1  \n",
       "4              1  "
      ]
     },
     "execution_count": 6,
     "metadata": {},
     "output_type": "execute_result"
    }
   ],
   "source": [
    "data_encoded = pd.get_dummies(data['Country'], dtype=int)\n",
    "data = pd.concat([data, data_encoded], axis=1)\n",
    "data.head()"
   ]
  },
  {
   "cell_type": "code",
   "execution_count": 7,
   "id": "81e2ca21-6f5c-4d8f-a9ed-97b39a6ab8da",
   "metadata": {},
   "outputs": [
    {
     "data": {
      "text/html": [
       "<div>\n",
       "<style scoped>\n",
       "    .dataframe tbody tr th:only-of-type {\n",
       "        vertical-align: middle;\n",
       "    }\n",
       "\n",
       "    .dataframe tbody tr th {\n",
       "        vertical-align: top;\n",
       "    }\n",
       "\n",
       "    .dataframe thead th {\n",
       "        text-align: right;\n",
       "    }\n",
       "</style>\n",
       "<table border=\"1\" class=\"dataframe\">\n",
       "  <thead>\n",
       "    <tr style=\"text-align: right;\">\n",
       "      <th></th>\n",
       "      <th>Sl.No</th>\n",
       "      <th>College_Name</th>\n",
       "      <th>Country</th>\n",
       "      <th>Rank</th>\n",
       "      <th>Fees</th>\n",
       "      <th>Avg Package</th>\n",
       "      <th>Australlia</th>\n",
       "      <th>Canada</th>\n",
       "      <th>Germany</th>\n",
       "      <th>United Kingdom</th>\n",
       "      <th>United states</th>\n",
       "      <th>ROI</th>\n",
       "    </tr>\n",
       "  </thead>\n",
       "  <tbody>\n",
       "    <tr>\n",
       "      <th>0</th>\n",
       "      <td>1.0</td>\n",
       "      <td>Massachusetts Institute of Technology (MIT)</td>\n",
       "      <td>United states</td>\n",
       "      <td>1</td>\n",
       "      <td>62000.0</td>\n",
       "      <td>170000.0</td>\n",
       "      <td>0</td>\n",
       "      <td>0</td>\n",
       "      <td>0</td>\n",
       "      <td>0</td>\n",
       "      <td>1</td>\n",
       "      <td>2.741935</td>\n",
       "    </tr>\n",
       "    <tr>\n",
       "      <th>1</th>\n",
       "      <td>2.0</td>\n",
       "      <td>Stanford University</td>\n",
       "      <td>United states</td>\n",
       "      <td>2</td>\n",
       "      <td>85000.0</td>\n",
       "      <td>185000.0</td>\n",
       "      <td>0</td>\n",
       "      <td>0</td>\n",
       "      <td>0</td>\n",
       "      <td>0</td>\n",
       "      <td>1</td>\n",
       "      <td>2.176471</td>\n",
       "    </tr>\n",
       "    <tr>\n",
       "      <th>2</th>\n",
       "      <td>3.0</td>\n",
       "      <td>Carnegie Mellon University</td>\n",
       "      <td>United states</td>\n",
       "      <td>3</td>\n",
       "      <td>60000.0</td>\n",
       "      <td>150000.0</td>\n",
       "      <td>0</td>\n",
       "      <td>0</td>\n",
       "      <td>0</td>\n",
       "      <td>0</td>\n",
       "      <td>1</td>\n",
       "      <td>2.500000</td>\n",
       "    </tr>\n",
       "    <tr>\n",
       "      <th>3</th>\n",
       "      <td>4.0</td>\n",
       "      <td>Harvard University</td>\n",
       "      <td>United states</td>\n",
       "      <td>7</td>\n",
       "      <td>58000.0</td>\n",
       "      <td>145000.0</td>\n",
       "      <td>0</td>\n",
       "      <td>0</td>\n",
       "      <td>0</td>\n",
       "      <td>0</td>\n",
       "      <td>1</td>\n",
       "      <td>2.500000</td>\n",
       "    </tr>\n",
       "    <tr>\n",
       "      <th>4</th>\n",
       "      <td>5.0</td>\n",
       "      <td>University of California, Berkeley (UCB)</td>\n",
       "      <td>United states</td>\n",
       "      <td>8</td>\n",
       "      <td>45000.0</td>\n",
       "      <td>150000.0</td>\n",
       "      <td>0</td>\n",
       "      <td>0</td>\n",
       "      <td>0</td>\n",
       "      <td>0</td>\n",
       "      <td>1</td>\n",
       "      <td>3.333333</td>\n",
       "    </tr>\n",
       "  </tbody>\n",
       "</table>\n",
       "</div>"
      ],
      "text/plain": [
       "   Sl.No                                 College_Name        Country Rank  \\\n",
       "0    1.0  Massachusetts Institute of Technology (MIT)  United states    1   \n",
       "1    2.0                          Stanford University  United states    2   \n",
       "2    3.0                   Carnegie Mellon University  United states    3   \n",
       "3    4.0                           Harvard University  United states    7   \n",
       "4    5.0     University of California, Berkeley (UCB)  United states    8   \n",
       "\n",
       "      Fees  Avg Package  Australlia  Canada  Germany  United Kingdom  \\\n",
       "0  62000.0     170000.0           0       0        0               0   \n",
       "1  85000.0     185000.0           0       0        0               0   \n",
       "2  60000.0     150000.0           0       0        0               0   \n",
       "3  58000.0     145000.0           0       0        0               0   \n",
       "4  45000.0     150000.0           0       0        0               0   \n",
       "\n",
       "   United states       ROI  \n",
       "0              1  2.741935  \n",
       "1              1  2.176471  \n",
       "2              1  2.500000  \n",
       "3              1  2.500000  \n",
       "4              1  3.333333  "
      ]
     },
     "execution_count": 7,
     "metadata": {},
     "output_type": "execute_result"
    }
   ],
   "source": [
    "data['ROI']=data['Avg Package']/data['Fees'].replace(0,1)\n",
    "data.head()"
   ]
  },
  {
   "cell_type": "code",
   "execution_count": 8,
   "id": "d524eea2-b665-4807-ad3b-de747b9f86b3",
   "metadata": {},
   "outputs": [
    {
     "data": {
      "text/html": [
       "<div>\n",
       "<style scoped>\n",
       "    .dataframe tbody tr th:only-of-type {\n",
       "        vertical-align: middle;\n",
       "    }\n",
       "\n",
       "    .dataframe tbody tr th {\n",
       "        vertical-align: top;\n",
       "    }\n",
       "\n",
       "    .dataframe thead th {\n",
       "        text-align: right;\n",
       "    }\n",
       "</style>\n",
       "<table border=\"1\" class=\"dataframe\">\n",
       "  <thead>\n",
       "    <tr style=\"text-align: right;\">\n",
       "      <th></th>\n",
       "      <th>Sl.No</th>\n",
       "      <th>College_Name</th>\n",
       "      <th>Country</th>\n",
       "      <th>Rank</th>\n",
       "      <th>Fees</th>\n",
       "      <th>Avg Package</th>\n",
       "      <th>ROI</th>\n",
       "    </tr>\n",
       "  </thead>\n",
       "  <tbody>\n",
       "    <tr>\n",
       "      <th>0</th>\n",
       "      <td>1.0</td>\n",
       "      <td>Massachusetts Institute of Technology (MIT)</td>\n",
       "      <td>United states</td>\n",
       "      <td>1</td>\n",
       "      <td>62000.0</td>\n",
       "      <td>170000.0</td>\n",
       "      <td>2.741935</td>\n",
       "    </tr>\n",
       "    <tr>\n",
       "      <th>1</th>\n",
       "      <td>2.0</td>\n",
       "      <td>Stanford University</td>\n",
       "      <td>United states</td>\n",
       "      <td>2</td>\n",
       "      <td>85000.0</td>\n",
       "      <td>185000.0</td>\n",
       "      <td>2.176471</td>\n",
       "    </tr>\n",
       "    <tr>\n",
       "      <th>2</th>\n",
       "      <td>3.0</td>\n",
       "      <td>Carnegie Mellon University</td>\n",
       "      <td>United states</td>\n",
       "      <td>3</td>\n",
       "      <td>60000.0</td>\n",
       "      <td>150000.0</td>\n",
       "      <td>2.500000</td>\n",
       "    </tr>\n",
       "    <tr>\n",
       "      <th>3</th>\n",
       "      <td>4.0</td>\n",
       "      <td>Harvard University</td>\n",
       "      <td>United states</td>\n",
       "      <td>7</td>\n",
       "      <td>58000.0</td>\n",
       "      <td>145000.0</td>\n",
       "      <td>2.500000</td>\n",
       "    </tr>\n",
       "    <tr>\n",
       "      <th>4</th>\n",
       "      <td>5.0</td>\n",
       "      <td>University of California, Berkeley (UCB)</td>\n",
       "      <td>United states</td>\n",
       "      <td>8</td>\n",
       "      <td>45000.0</td>\n",
       "      <td>150000.0</td>\n",
       "      <td>3.333333</td>\n",
       "    </tr>\n",
       "  </tbody>\n",
       "</table>\n",
       "</div>"
      ],
      "text/plain": [
       "   Sl.No                                 College_Name        Country Rank  \\\n",
       "0    1.0  Massachusetts Institute of Technology (MIT)  United states    1   \n",
       "1    2.0                          Stanford University  United states    2   \n",
       "2    3.0                   Carnegie Mellon University  United states    3   \n",
       "3    4.0                           Harvard University  United states    7   \n",
       "4    5.0     University of California, Berkeley (UCB)  United states    8   \n",
       "\n",
       "      Fees  Avg Package       ROI  \n",
       "0  62000.0     170000.0  2.741935  \n",
       "1  85000.0     185000.0  2.176471  \n",
       "2  60000.0     150000.0  2.500000  \n",
       "3  58000.0     145000.0  2.500000  \n",
       "4  45000.0     150000.0  3.333333  "
      ]
     },
     "execution_count": 8,
     "metadata": {},
     "output_type": "execute_result"
    }
   ],
   "source": [
    "data=data.drop(['Australlia','Canada','Germany','United Kingdom','United states'],axis='columns')\n",
    "data.head()"
   ]
  },
  {
   "cell_type": "code",
   "execution_count": 9,
   "id": "7117a8c4-e9f9-4db8-b1c9-dcea78ecee8f",
   "metadata": {},
   "outputs": [],
   "source": [
    "data['Country']=data['Country'].replace('Australlia','Australia')"
   ]
  },
  {
   "cell_type": "code",
   "execution_count": 10,
   "id": "6a43573f-90d9-4c34-a968-43e505b1cb0f",
   "metadata": {},
   "outputs": [],
   "source": [
    "data['Rank']=data['Rank'].astype(str).str.replace('=','',regex=False)\n"
   ]
  },
  {
   "cell_type": "code",
   "execution_count": 11,
   "id": "09977727-ab58-47c0-af97-f849f93c9916",
   "metadata": {},
   "outputs": [],
   "source": [
    "data_encoded = pd.get_dummies(data['Country'], dtype=int)\n",
    "data = pd.concat([data, data_encoded], axis=1)\n",
    "data.head()\n",
    "data.to_excel('cpdata.xlsx',index=False)"
   ]
  },
  {
   "cell_type": "code",
   "execution_count": 12,
   "id": "09351ee2-eac7-41b5-9990-b8c209f881d5",
   "metadata": {},
   "outputs": [],
   "source": [
    "features=['Fees','Avg Package','ROI','Australia','Canada','Germany','United Kingdom','United states']\n",
    "scaler=MinMaxScaler()\n",
    "data_feature=scaler.fit_transform(data[features])"
   ]
  },
  {
   "cell_type": "code",
   "execution_count": 13,
   "id": "4ce4451c-e3a6-42a1-822a-f4f1ed1e24f2",
   "metadata": {},
   "outputs": [
    {
     "name": "stdout",
     "output_type": "stream",
     "text": [
      "[[7.29411765e-01 8.90510949e-01 1.20772381e-05 ... 0.00000000e+00\n",
      "  0.00000000e+00 1.00000000e+00]\n",
      " [1.00000000e+00 1.00000000e+00 3.99894926e-06 ... 0.00000000e+00\n",
      "  0.00000000e+00 1.00000000e+00]\n",
      " [7.05882353e-01 7.44525547e-01 8.62092323e-06 ... 0.00000000e+00\n",
      "  0.00000000e+00 1.00000000e+00]\n",
      " ...\n",
      " [3.29411765e-01 1.60583942e-01 8.62092323e-06 ... 0.00000000e+00\n",
      "  0.00000000e+00 0.00000000e+00]\n",
      " [3.29411765e-01 1.60583942e-01 8.62092323e-06 ... 0.00000000e+00\n",
      "  0.00000000e+00 0.00000000e+00]\n",
      " [3.29411765e-01 1.60583942e-01 8.62092323e-06 ... 0.00000000e+00\n",
      "  0.00000000e+00 0.00000000e+00]]\n"
     ]
    }
   ],
   "source": [
    "print(data_feature)"
   ]
  },
  {
   "cell_type": "code",
   "execution_count": 14,
   "id": "e1413a35-c603-49e1-9b23-cc43f2932a1f",
   "metadata": {},
   "outputs": [
    {
     "data": {
      "text/plain": [
       "array(['United states', 'United Kingdom', 'Germany', 'Canada',\n",
       "       'Australia'], dtype=object)"
      ]
     },
     "execution_count": 14,
     "metadata": {},
     "output_type": "execute_result"
    }
   ],
   "source": [
    "countries=data['Country'].unique()\n",
    "countries"
   ]
  },
  {
   "cell_type": "code",
   "execution_count": null,
   "id": "d2b75e0f-496c-4bce-8c0f-547c871e8b8a",
   "metadata": {},
   "outputs": [],
   "source": [
    "country_name=input('Among United states,United Kingdom,Germany,Canada,Australia which country do you prefer')\n",
    "match=difflib.get_close_matches(country_name,countries,n=1,cutoff=0.6)\n",
    "\n",
    "if match:\n",
    "    country=match[0]\n",
    "else:\n",
    "    print('Your country is not available')\n",
    "    country=None"
   ]
  },
  {
   "cell_type": "code",
   "execution_count": null,
   "id": "24f89c52-6c53-4672-9ee7-7307c567c094",
   "metadata": {},
   "outputs": [],
   "source": [
    "fees=float(input('Enter your Affordable Fees:'))\n",
    "\n"
   ]
  },
  {
   "cell_type": "code",
   "execution_count": null,
   "id": "bf6ddb64-06c2-42fc-92a7-d7955a29f961",
   "metadata": {},
   "outputs": [],
   "source": [
    "package=float(input('Enter your Expected package after MS :'))\n"
   ]
  },
  {
   "cell_type": "code",
   "execution_count": null,
   "id": "50b5ecad-2880-4dc9-9957-071d4afae92c",
   "metadata": {},
   "outputs": [],
   "source": [
    "roi=package/fees if fees!=0 else 0\n",
    "\n"
   ]
  },
  {
   "cell_type": "code",
   "execution_count": null,
   "id": "e88f8bd7-b172-4c12-917e-a1d999991b0d",
   "metadata": {},
   "outputs": [],
   "source": [
    "country_vector={'Australia':0,'Canada':0,'Germany':0,'United Kingdom':0,'United states':0}\n",
    "if country in country_vector:\n",
    "    country_vector[country]=1\n",
    "    "
   ]
  },
  {
   "cell_type": "code",
   "execution_count": null,
   "id": "1e34b4bb-54df-4c69-984a-4a067b5875ca",
   "metadata": {},
   "outputs": [],
   "source": [
    "user_input_vector=[fees,package,roi] + list(country_vector.values())"
   ]
  },
  {
   "cell_type": "code",
   "execution_count": null,
   "id": "c4110722-1dd1-463c-8fbd-7f66bce584e1",
   "metadata": {},
   "outputs": [],
   "source": [
    "print(user_input_vector)"
   ]
  },
  {
   "cell_type": "code",
   "execution_count": null,
   "id": "ba0a052a-9caa-40aa-96e6-680595fc996f",
   "metadata": {},
   "outputs": [],
   "source": [
    "user_scaled = scaler.transform([user_input_vector])\n",
    "print(user_scaled)"
   ]
  },
  {
   "cell_type": "code",
   "execution_count": null,
   "id": "e77ab08b-0a75-4ba8-bdba-aefc728e89a3",
   "metadata": {},
   "outputs": [],
   "source": [
    "similarity_scores=cosine_similarity(user_scaled,data_feature)[0]\n",
    "data['similarity']=similarity_scores\n",
    "\n"
   ]
  },
  {
   "cell_type": "code",
   "execution_count": null,
   "id": "1c5df0e5-82d4-4e58-abae-04e4f9e48997",
   "metadata": {},
   "outputs": [],
   "source": [
    "recommendations=data.sort_values(by='similarity',ascending=False)[['College_Name', 'Country','Rank', 'Fees', 'Avg Package', 'ROI']].head(5)\n",
    "print(recommendations)"
   ]
  },
  {
   "cell_type": "code",
   "execution_count": null,
   "id": "af642343-f3a3-4611-a6aa-a3554d337137",
   "metadata": {},
   "outputs": [],
   "source": [
    "import pickle\n",
    "\n",
    "with open('scaler.pickle','wb') as f:\n",
    "    pickle.dump(scaler,f)\n",
    "with open('features.pickle','wb') as f:\n",
    "    pickle.dump(features,f)"
   ]
  },
  {
   "cell_type": "code",
   "execution_count": null,
   "id": "0164dc4e-1995-4c85-b367-1fc994a3e8fd",
   "metadata": {},
   "outputs": [],
   "source": []
  }
 ],
 "metadata": {
  "kernelspec": {
   "display_name": "Python [conda env:base] *",
   "language": "python",
   "name": "conda-base-py"
  },
  "language_info": {
   "codemirror_mode": {
    "name": "ipython",
    "version": 3
   },
   "file_extension": ".py",
   "mimetype": "text/x-python",
   "name": "python",
   "nbconvert_exporter": "python",
   "pygments_lexer": "ipython3",
   "version": "3.12.7"
  }
 },
 "nbformat": 4,
 "nbformat_minor": 5
}
